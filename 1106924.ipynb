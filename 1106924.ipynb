{
 "cells": [
  {
   "cell_type": "code",
   "execution_count": 39,
   "metadata": {},
   "outputs": [],
   "source": [
    "import gurobipy as gb\n",
    "from gurobipy import GRB, LinExpr"
   ]
  },
  {
   "cell_type": "code",
   "execution_count": 40,
   "metadata": {},
   "outputs": [],
   "source": [
    "# define model and add variable\n",
    "model = gb.Model(\"test-drug\")\n",
    "\n",
    "x1 = model.addVar(vtype=\"Binary\", name=\"x1\")\n",
    "x2 = model.addVar(vtype=\"Binary\", name=\"x2\")\n",
    "x3 = model.addVar(vtype=\"Binary\", name=\"x3\")\n",
    "x4 = model.addVar(vtype=\"Binary\", name=\"x4\")"
   ]
  },
  {
   "cell_type": "code",
   "execution_count": 41,
   "metadata": {},
   "outputs": [],
   "source": [
    "# set objective for model\n",
    "model.setObjective(130*x1 + 95*x2 + 118*x3 + 83*x4, GRB.MINIMIZE)"
   ]
  },
  {
   "cell_type": "code",
   "execution_count": 42,
   "metadata": {},
   "outputs": [
    {
     "data": {
      "text/plain": [
       "<gurobi.Constr *Awaiting Model Update*>"
      ]
     },
     "execution_count": 42,
     "metadata": {},
     "output_type": "execute_result"
    }
   ],
   "source": [
    "# add constraints\n",
    "model.addConstr(x1+x2 == 1, \"c0\")\n",
    "model.addConstr(x1+x3 == 1, \"c1\")\n",
    "model.addConstr(x2+x4 == 1, \"c2\")\n",
    "model.addConstr(x4+x3 == 1, \"c4\")"
   ]
  },
  {
   "cell_type": "code",
   "execution_count": 43,
   "metadata": {},
   "outputs": [
    {
     "name": "stdout",
     "output_type": "stream",
     "text": [
      "Gurobi Optimizer version 9.0.2 build v9.0.2rc0 (win64)\n",
      "Optimize a model with 4 rows, 4 columns and 8 nonzeros\n",
      "Model fingerprint: 0x432b8b2b\n",
      "Variable types: 0 continuous, 4 integer (4 binary)\n",
      "Coefficient statistics:\n",
      "  Matrix range     [1e+00, 1e+00]\n",
      "  Objective range  [8e+01, 1e+02]\n",
      "  Bounds range     [1e+00, 1e+00]\n",
      "  RHS range        [1e+00, 1e+00]\n",
      "Presolve removed 4 rows and 4 columns\n",
      "Presolve time: 0.00s\n",
      "Presolve: All rows and columns removed\n",
      "\n",
      "Explored 0 nodes (0 simplex iterations) in 0.01 seconds\n",
      "Thread count was 1 (of 12 available processors)\n",
      "\n",
      "Solution count 1: 213 \n",
      "\n",
      "Optimal solution found (tolerance 1.00e-04)\n",
      "Best objective 2.130000000000e+02, best bound 2.130000000000e+02, gap 0.0000%\n"
     ]
    }
   ],
   "source": [
    "# optimize the model\n",
    "model.optimize()"
   ]
  },
  {
   "cell_type": "code",
   "execution_count": 44,
   "metadata": {},
   "outputs": [
    {
     "name": "stdout",
     "output_type": "stream",
     "text": [
      "x1 0\n",
      "x2 1\n",
      "x3 1\n",
      "x4 -0\n",
      "Optimal value: 213\n"
     ]
    }
   ],
   "source": [
    "# final result of part 1\n",
    "for i in model.getVars():\n",
    "    print('%s %g' % (i.varName, i.x))\n",
    "print('Optimal value: %g' % model.objVal)"
   ]
  },
  {
   "cell_type": "code",
   "execution_count": 45,
   "metadata": {},
   "outputs": [
    {
     "name": "stdout",
     "output_type": "stream",
     "text": [
      "[79, 107, 98, 66, 64, 68, 88, 91, 58, 130, 131, 78, 63, 99, 50, 135, 50, 116, 130, 95, 71, 140, 95, 133, 118, 83, 134, 141, 143, 125, 55, 50, 72, 123, 88, 132]\n"
     ]
    }
   ],
   "source": [
    "# import random\n",
    "import numpy as np\n",
    "np.random.seed(1997)\n",
    "random_numbers = []\n",
    "\n",
    "# create random numbers for 6x6\n",
    "for i in range(0,36):\n",
    "    random_numbers.append(np.random.randint(50,150))\n",
    "\n",
    "random_numbers[18]= 130\n",
    "random_numbers[19]= 95\n",
    "random_numbers[24]= 118\n",
    "random_numbers[25]= 83\n",
    "\n",
    "print(random_numbers)"
   ]
  },
  {
   "cell_type": "code",
   "execution_count": 46,
   "metadata": {},
   "outputs": [],
   "source": [
    "# define model\n",
    "var = model.addVars(6,6,vtype='B')"
   ]
  },
  {
   "cell_type": "code",
   "execution_count": 47,
   "metadata": {},
   "outputs": [],
   "source": [
    "# create variable list\n",
    "var_list = []\n",
    "for i in range(6):\n",
    "    for j in range(6):\n",
    "        var_list.append(var[i,j])"
   ]
  },
  {
   "cell_type": "code",
   "execution_count": 48,
   "metadata": {},
   "outputs": [
    {
     "data": {
      "text/plain": [
       "{0: <gurobi.Constr *Awaiting Model Update*>,\n",
       " 1: <gurobi.Constr *Awaiting Model Update*>,\n",
       " 2: <gurobi.Constr *Awaiting Model Update*>,\n",
       " 3: <gurobi.Constr *Awaiting Model Update*>,\n",
       " 4: <gurobi.Constr *Awaiting Model Update*>,\n",
       " 5: <gurobi.Constr *Awaiting Model Update*>}"
      ]
     },
     "execution_count": 48,
     "metadata": {},
     "output_type": "execute_result"
    }
   ],
   "source": [
    "#define model linear expression\n",
    "lin_expr = LinExpr(random_numbers, var_list)\n",
    "model.setObjective(lin_expr, GRB.MINIMIZE)\n",
    "model.addConstrs(var.sum(i, '*') == 1 for i in [0,1,2,3,4,5])\n",
    "model.addConstrs(var.sum('*',i) == 1 for i in [0,1,2,3,4,5])"
   ]
  },
  {
   "cell_type": "code",
   "execution_count": 49,
   "metadata": {},
   "outputs": [
    {
     "name": "stdout",
     "output_type": "stream",
     "text": [
      "Gurobi Optimizer version 9.0.2 build v9.0.2rc0 (win64)\n",
      "Optimize a model with 16 rows, 40 columns and 80 nonzeros\n",
      "Model fingerprint: 0x0017c529\n",
      "Variable types: 0 continuous, 40 integer (40 binary)\n",
      "Coefficient statistics:\n",
      "  Matrix range     [1e+00, 1e+00]\n",
      "  Objective range  [5e+01, 1e+02]\n",
      "  Bounds range     [1e+00, 1e+00]\n",
      "  RHS range        [1e+00, 1e+00]\n",
      "\n",
      "MIP start from previous solve produced solution with objective 403 (0.02s)\n",
      "Loaded MIP start from previous solve with objective 403\n",
      "\n",
      "Presolve removed 4 rows and 4 columns\n",
      "Presolve time: 0.00s\n",
      "Presolved: 12 rows, 36 columns, 72 nonzeros\n",
      "Variable types: 0 continuous, 36 integer (36 binary)\n",
      "\n",
      "Root relaxation: cutoff, 10 iterations, 0.00 seconds\n",
      "\n",
      "    Nodes    |    Current Node    |     Objective Bounds      |     Work\n",
      " Expl Unexpl |  Obj  Depth IntInf | Incumbent    BestBd   Gap | It/Node Time\n",
      "\n",
      "     0     0     cutoff    0       403.00000  403.00000  0.00%     -    0s\n",
      "\n",
      "Explored 0 nodes (10 simplex iterations) in 0.05 seconds\n",
      "Thread count was 12 (of 12 available processors)\n",
      "\n",
      "Solution count 1: 403 \n",
      "\n",
      "Optimal solution found (tolerance 1.00e-04)\n",
      "Best objective 4.030000000000e+02, best bound 4.030000000000e+02, gap 0.0000%\n"
     ]
    }
   ],
   "source": [
    "# finally optimize the model\n",
    "model.optimize()"
   ]
  },
  {
   "cell_type": "code",
   "execution_count": 50,
   "metadata": {},
   "outputs": [
    {
     "name": "stdout",
     "output_type": "stream",
     "text": [
      "x1 0\n",
      "x2 1\n",
      "x3 1\n",
      "x4 0\n",
      "C4 -0\n",
      "C5 -0\n",
      "C6 -0\n",
      "C7 1\n",
      "C8 0\n",
      "C9 0\n",
      "C10 -0\n",
      "C11 -0\n",
      "C12 0\n",
      "C13 -0\n",
      "C14 -0\n",
      "C15 1\n",
      "C16 0\n",
      "C17 -0\n",
      "C18 -0\n",
      "C19 -0\n",
      "C20 1\n",
      "C21 -0\n",
      "C22 -0\n",
      "C23 -0\n",
      "C24 1\n",
      "C25 -0\n",
      "C26 -0\n",
      "C27 -0\n",
      "C28 -0\n",
      "C29 1\n",
      "C30 -0\n",
      "C31 -0\n",
      "C32 -0\n",
      "C33 -0\n",
      "C34 1\n",
      "C35 0\n",
      "C36 -0\n",
      "C37 -0\n",
      "C38 -0\n",
      "C39 -0\n",
      "Optimal value: 403\n"
     ]
    }
   ],
   "source": [
    "# result\n",
    "for i in model.getVars():\n",
    "    print('%s %g' % (i.varName, i.x))\n",
    "print('Optimal value: %g' % model.objVal)"
   ]
  }
 ],
 "metadata": {
  "kernelspec": {
   "display_name": "Python 3",
   "language": "python",
   "name": "python3"
  },
  "language_info": {
   "codemirror_mode": {
    "name": "ipython",
    "version": 3
   },
   "file_extension": ".py",
   "mimetype": "text/x-python",
   "name": "python",
   "nbconvert_exporter": "python",
   "pygments_lexer": "ipython3",
   "version": "3.6.10"
  }
 },
 "nbformat": 4,
 "nbformat_minor": 2
}
